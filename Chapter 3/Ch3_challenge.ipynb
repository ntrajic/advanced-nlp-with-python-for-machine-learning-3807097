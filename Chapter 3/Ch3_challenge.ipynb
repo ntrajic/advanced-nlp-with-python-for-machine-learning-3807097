{
  "cells": [
    {
      "cell_type": "markdown",
      "metadata": {
        "id": "15EatDy5yxEI"
      },
      "source": [
        "#Analyze Customer Feedback\n",
        "\n",
        "In this exercise, we analyze customer feedback using spaCy and TextBlob."
      ]
    },
    {
      "cell_type": "code",
      "execution_count": 4,
      "metadata": {},
      "outputs": [
        {
          "name": "stdout",
          "output_type": "stream",
          "text": [
            "Collecting textblob\n",
            "  Downloading textblob-0.19.0-py3-none-any.whl.metadata (4.4 kB)\n",
            "Collecting nltk>=3.9 (from textblob)\n",
            "  Downloading nltk-3.9.1-py3-none-any.whl.metadata (2.9 kB)\n",
            "Requirement already satisfied: click in /usr/local/python/3.12.1/lib/python3.12/site-packages (from nltk>=3.9->textblob) (8.1.8)\n",
            "Requirement already satisfied: joblib in /home/codespace/.local/lib/python3.12/site-packages (from nltk>=3.9->textblob) (1.4.2)\n",
            "Collecting regex>=2021.8.3 (from nltk>=3.9->textblob)\n",
            "  Downloading regex-2024.11.6-cp312-cp312-manylinux_2_17_x86_64.manylinux2014_x86_64.whl.metadata (40 kB)\n",
            "Requirement already satisfied: tqdm in /usr/local/python/3.12.1/lib/python3.12/site-packages (from nltk>=3.9->textblob) (4.67.1)\n",
            "Downloading textblob-0.19.0-py3-none-any.whl (624 kB)\n",
            "\u001b[2K   \u001b[90m━━━━━━━━━━━━━━━━━━━━━━━━━━━━━━━━━━━━━━━━\u001b[0m \u001b[32m624.3/624.3 kB\u001b[0m \u001b[31m22.3 MB/s\u001b[0m eta \u001b[36m0:00:00\u001b[0m\n",
            "\u001b[?25hDownloading nltk-3.9.1-py3-none-any.whl (1.5 MB)\n",
            "\u001b[2K   \u001b[90m━━━━━━━━━━━━━━━━━━━━━━━━━━━━━━━━━━━━━━━━\u001b[0m \u001b[32m1.5/1.5 MB\u001b[0m \u001b[31m40.8 MB/s\u001b[0m eta \u001b[36m0:00:00\u001b[0m\n",
            "\u001b[?25hDownloading regex-2024.11.6-cp312-cp312-manylinux_2_17_x86_64.manylinux2014_x86_64.whl (796 kB)\n",
            "\u001b[2K   \u001b[90m━━━━━━━━━━━━━━━━━━━━━━━━━━━━━━━━━━━━━━━━\u001b[0m \u001b[32m796.9/796.9 kB\u001b[0m \u001b[31m22.5 MB/s\u001b[0m eta \u001b[36m0:00:00\u001b[0m\n",
            "\u001b[?25hInstalling collected packages: regex, nltk, textblob\n",
            "\u001b[33m  WARNING: The script nltk is installed in '/usr/local/python/3.12.1/bin' which is not on PATH.\n",
            "  Consider adding this directory to PATH or, if you prefer to suppress this warning, use --no-warn-script-location.\u001b[0m\u001b[33m\n",
            "\u001b[0mSuccessfully installed nltk-3.9.1 regex-2024.11.6 textblob-0.19.0\n",
            "\n",
            "\u001b[1m[\u001b[0m\u001b[34;49mnotice\u001b[0m\u001b[1;39;49m]\u001b[0m\u001b[39;49m A new release of pip is available: \u001b[0m\u001b[31;49m24.3.1\u001b[0m\u001b[39;49m -> \u001b[0m\u001b[32;49m25.0.1\u001b[0m\n",
            "\u001b[1m[\u001b[0m\u001b[34;49mnotice\u001b[0m\u001b[1;39;49m]\u001b[0m\u001b[39;49m To update, run: \u001b[0m\u001b[32;49mpython -m pip install --upgrade pip\u001b[0m\n",
            "Note: you may need to restart the kernel to use updated packages.\n"
          ]
        },
        {
          "name": "stderr",
          "output_type": "stream",
          "text": [
            "UsageError: Line magic function `%python` not found (But cell magic `%%python` exists, did you mean that instead?).\n"
          ]
        }
      ],
      "source": [
        "#Install Libraries and Modules\n",
        "#!pip install matplot\n",
        "%pip install -U textblob\n",
        "%python -m textblob.download_corpora lite\n"
      ]
    },
    {
      "cell_type": "markdown",
      "metadata": {
        "id": "xfkLj86ioXxy"
      },
      "source": [
        "#Exercise #1:  Install Libraries and Modules\n",
        "\n"
      ]
    },
    {
      "cell_type": "code",
      "execution_count": 5,
      "metadata": {
        "id": "aQZzfNqQkdfW"
      },
      "outputs": [],
      "source": [
        "\n",
        "\n",
        "\n",
        "import spacy\n",
        "from textblob import TextBlob\n",
        "import pandas as pd\n",
        "import csv\n",
        "\n",
        "import seaborn as sns\n",
        "import matplotlib.pyplot as plt\n",
        "\n"
      ]
    },
    {
      "cell_type": "markdown",
      "metadata": {
        "id": "TElJA9XWLMrm"
      },
      "source": [
        "#Exercise #2: Read in Feedback File and Create Output File for Results"
      ]
    },
    {
      "cell_type": "code",
      "execution_count": 7,
      "metadata": {
        "id": "mjkLcZRHQk0t"
      },
      "outputs": [
        {
          "name": "stdout",
          "output_type": "stream",
          "text": [
            "\n",
            "Processing Feedback 1:\n",
            "------------------------------\n",
            "Your products are excellent. I really love the quality! However, delivery to my location in Los Angeles was a bit slow. abbey@email.com\n",
            "Sentiment: 0.44166666666666665 (Polarity), 0.6666666666666666 (Subjectivity)\n",
            "Named Entities: [('Los Angeles', 'GPE')]\n",
            "Preferred Contact Method: email\n",
            "Preferred Contact Method: email\n",
            "\n",
            "Processing Feedback 2:\n",
            "------------------------------\n",
            "The customer service team in New York was helpful in resolving my issue. I appreciate the assistance. brian@email.com\n",
            "Sentiment: 0.13636363636363635 (Polarity), 0.45454545454545453 (Subjectivity)\n",
            "Named Entities: [('New York', 'GPE')]\n",
            "Preferred Contact Method: email\n",
            "Preferred Contact Method: email\n",
            "\n",
            "Processing Feedback 3:\n",
            "------------------------------\n",
            "The new features in the latest release are fantastic! They have greatly improved the user experience in San Francisco.\n",
            "Sentiment: 0.48409090909090907 (Polarity), 0.7511363636363636 (Subjectivity)\n",
            "Named Entities: [('San Francisco', 'GPE')]\n",
            "Preferred Contact Method: chat\n",
            "Preferred Contact Method: chat\n",
            "\n",
            "Processing Feedback 4:\n",
            "------------------------------\n",
            "The product didn't meet my expectations, and I'm disappointed. I hope you can address the issues in Chicago. My email address is emailme@email.com\n",
            "Sentiment: -0.75 (Polarity), 0.75 (Subjectivity)\n",
            "Named Entities: [('Chicago', 'GPE')]\n",
            "Preferred Contact Method: email\n",
            "Preferred Contact Method: email\n"
          ]
        }
      ],
      "source": [
        "# EXERCISE - SCROLL DOWN TO THE \"START HERE\" SECTION BELOW.\n",
        "\n",
        "# Load the English NLP model\n",
        "nlp = spacy.load(\"en_core_web_sm\")\n",
        "\n",
        "\n",
        "#Define the path to the file containing feedback\n",
        "file_path = '/workspaces/advanced-nlp-with-python-for-machine-learning-3807097/Chapter 3/feedback_data.csv'\n",
        "\n",
        "# Read the file using open() with the specified parameters\n",
        "with open(file_path, \"r\", encoding=\"utf-8\") as file:\n",
        "    # Step 2: Read the lines of the file\n",
        "    feedback_data = file.readlines()\n",
        "\n",
        "# Add code to output feedback results to a file.\n",
        "output_csv_path = \"feedback_analysis_results.csv\"\n",
        "\n",
        "# Prepare CSV header\n",
        "csv_header = [\"Feedback Index\", \"Sentiment Polarity\", \"Sentiment Subjectivity\", \"Named Entities\", \"Preferred Contact Method\"]\n",
        "\n",
        "# Open CSV file for writing\n",
        "with open(output_csv_path, \"w\", newline=\"\", encoding=\"utf-8\") as csv_file:\n",
        "    # Create CSV writer\n",
        "    csv_writer = csv.writer(csv_file)\n",
        "\n",
        "    # Write the header\n",
        "    csv_writer.writerow(csv_header)\n",
        "\n",
        "#-----------------------------------------------------------------\n",
        "## Process and analyze each feedback\n",
        "    for idx, narrative in enumerate(feedback_data, start=1):\n",
        "      print(f\"\\nProcessing Feedback {idx}:\")\n",
        "      print(\"------------------------------\")\n",
        "      print(narrative.strip())\n",
        "\n",
        "# Process the narrative using spaCy\n",
        "      doc = nlp(narrative)\n",
        "\n",
        "# Perform sentiment analysis using TextBlob\n",
        "      blob = TextBlob(narrative)\n",
        "      sentiment_polarity = blob.sentiment.polarity\n",
        "      sentiment_subjectivity = blob.sentiment.subjectivity\n",
        "      print(f\"Sentiment: {sentiment_polarity} (Polarity), {sentiment_subjectivity} (Subjectivity)\")\n",
        "\n",
        "# Extract named entities\n",
        "      entities = [(ent.text, ent.label_) for ent in doc.ents]\n",
        "      print(\"Named Entities:\", entities)\n",
        "\n",
        "# Determine the preferred contact method\n",
        "      preferred_contact_method = \"chat\" if \"email\" not in narrative.lower() else \"email\"\n",
        "      print(f\"Preferred Contact Method: {preferred_contact_method}\")\n",
        "\n",
        "# Write the results to the CSV file\n",
        "      csv_writer.writerow([idx, sentiment_polarity, sentiment_subjectivity, entities, preferred_contact_method])\n",
        "\n",
        "\n",
        "# Determine the preferred contact method\n",
        "      preferred_contact_method = \"chat\" if \"email\" not in narrative.lower() else \"email\"\n",
        "      print(f\"Preferred Contact Method: {preferred_contact_method}\")\n",
        "\n",
        "# Write the results to the CSV file\n",
        "      csv_writer.writerow([idx, sentiment_polarity, sentiment_subjectivity, entities, preferred_contact_method])\n",
        "\n",
        "#-----------------------------------------------------------------"
      ]
    },
    {
      "cell_type": "markdown",
      "metadata": {
        "id": "l7hiWdrojvK_"
      },
      "source": [
        "#Exercise #3:  Exploratory Data Analysis on Customer Feedback"
      ]
    },
    {
      "cell_type": "code",
      "execution_count": 9,
      "metadata": {
        "id": "c3VdXX05nCw0"
      },
      "outputs": [
        {
          "data": {
            "text/html": [
              "<div>\n",
              "<style scoped>\n",
              "    .dataframe tbody tr th:only-of-type {\n",
              "        vertical-align: middle;\n",
              "    }\n",
              "\n",
              "    .dataframe tbody tr th {\n",
              "        vertical-align: top;\n",
              "    }\n",
              "\n",
              "    .dataframe thead th {\n",
              "        text-align: right;\n",
              "    }\n",
              "</style>\n",
              "<table border=\"1\" class=\"dataframe\">\n",
              "  <thead>\n",
              "    <tr style=\"text-align: right;\">\n",
              "      <th></th>\n",
              "      <th>Feedback Index</th>\n",
              "      <th>Sentiment Polarity</th>\n",
              "      <th>Sentiment Subjectivity</th>\n",
              "      <th>Named Entities</th>\n",
              "      <th>Preferred Contact Method</th>\n",
              "    </tr>\n",
              "  </thead>\n",
              "  <tbody>\n",
              "    <tr>\n",
              "      <th>0</th>\n",
              "      <td>1</td>\n",
              "      <td>0.441667</td>\n",
              "      <td>0.666667</td>\n",
              "      <td>[('Los Angeles', 'GPE')]</td>\n",
              "      <td>email</td>\n",
              "    </tr>\n",
              "    <tr>\n",
              "      <th>1</th>\n",
              "      <td>1</td>\n",
              "      <td>0.441667</td>\n",
              "      <td>0.666667</td>\n",
              "      <td>[('Los Angeles', 'GPE')]</td>\n",
              "      <td>email</td>\n",
              "    </tr>\n",
              "    <tr>\n",
              "      <th>2</th>\n",
              "      <td>2</td>\n",
              "      <td>0.136364</td>\n",
              "      <td>0.454545</td>\n",
              "      <td>[('New York', 'GPE')]</td>\n",
              "      <td>email</td>\n",
              "    </tr>\n",
              "    <tr>\n",
              "      <th>3</th>\n",
              "      <td>2</td>\n",
              "      <td>0.136364</td>\n",
              "      <td>0.454545</td>\n",
              "      <td>[('New York', 'GPE')]</td>\n",
              "      <td>email</td>\n",
              "    </tr>\n",
              "    <tr>\n",
              "      <th>4</th>\n",
              "      <td>3</td>\n",
              "      <td>0.484091</td>\n",
              "      <td>0.751136</td>\n",
              "      <td>[('San Francisco', 'GPE')]</td>\n",
              "      <td>chat</td>\n",
              "    </tr>\n",
              "  </tbody>\n",
              "</table>\n",
              "</div>"
            ],
            "text/plain": [
              "   Feedback Index  Sentiment Polarity  Sentiment Subjectivity  \\\n",
              "0               1            0.441667                0.666667   \n",
              "1               1            0.441667                0.666667   \n",
              "2               2            0.136364                0.454545   \n",
              "3               2            0.136364                0.454545   \n",
              "4               3            0.484091                0.751136   \n",
              "\n",
              "               Named Entities Preferred Contact Method  \n",
              "0    [('Los Angeles', 'GPE')]                    email  \n",
              "1    [('Los Angeles', 'GPE')]                    email  \n",
              "2       [('New York', 'GPE')]                    email  \n",
              "3       [('New York', 'GPE')]                    email  \n",
              "4  [('San Francisco', 'GPE')]                     chat  "
            ]
          },
          "execution_count": 9,
          "metadata": {},
          "output_type": "execute_result"
        }
      ],
      "source": [
        "##Load results file into a Pandas Dataframe\n",
        "#/workspaces/advanced-nlp-with-python-for-machine-learning-3807097/Chapter 3\n",
        "\n",
        "##Load results file into a Pandas Dataframe\n",
        "\n",
        "# Load data into a Pandas DataFrame\n",
        "df = pd.read_csv('/workspaces/advanced-nlp-with-python-for-machine-learning-3807097/Chapter 3/feedback_analysis_results.csv')\n",
        "\n",
        "# Display the DataFrame\n",
        "df.head()\n"
      ]
    },
    {
      "cell_type": "code",
      "execution_count": 10,
      "metadata": {
        "id": "CP2J1lkwnyYL"
      },
      "outputs": [
        {
          "name": "stdout",
          "output_type": "stream",
          "text": [
            "<class 'pandas.core.frame.DataFrame'>\n",
            "RangeIndex: 8 entries, 0 to 7\n",
            "Data columns (total 5 columns):\n",
            " #   Column                    Non-Null Count  Dtype  \n",
            "---  ------                    --------------  -----  \n",
            " 0   Feedback Index            8 non-null      int64  \n",
            " 1   Sentiment Polarity        8 non-null      float64\n",
            " 2   Sentiment Subjectivity    8 non-null      float64\n",
            " 3   Named Entities            8 non-null      object \n",
            " 4   Preferred Contact Method  8 non-null      object \n",
            "dtypes: float64(2), int64(1), object(2)\n",
            "memory usage: 452.0+ bytes\n"
          ]
        }
      ],
      "source": [
        "df.info()"
      ]
    },
    {
      "cell_type": "markdown",
      "metadata": {
        "id": "HPcHpaS5nb2k"
      },
      "source": [
        "##Plot the Preferred Contact Method"
      ]
    },
    {
      "cell_type": "code",
      "execution_count": 11,
      "metadata": {
        "id": "1LKkuGxtfDOt"
      },
      "outputs": [
        {
          "name": "stderr",
          "output_type": "stream",
          "text": [
            "/tmp/ipykernel_49187/4149427055.py:5: FutureWarning: \n",
            "\n",
            "Passing `palette` without assigning `hue` is deprecated and will be removed in v0.14.0. Assign the `x` variable to `hue` and set `legend=False` for the same effect.\n",
            "\n",
            "  sns.countplot(data=df, x='Preferred Contact Method', palette='muted')\n"
          ]
        },
        {
          "data": {
            "image/png": "[encoded data removed]",
            "text/plain": [
              "<Figure size 1000x600 with 1 Axes>"
            ]
          },
          "metadata": {},
          "output_type": "display_data"
        }
      ],
      "source": [
        "# Example plot: Preferred Contact Method Count\n",
        "\n",
        "\n",
        "plt.figure(figsize=(10, 6))\n",
        "sns.countplot(data=df, x='Preferred Contact Method', palette='muted')\n",
        "plt.title('Preferred Contact Method Count')\n",
        "plt.xlabel('Preferred Contact Method')\n",
        "plt.ylabel('Count')\n",
        "plt.show()\n",
        "\n"
      ]
    },
    {
      "cell_type": "markdown",
      "metadata": {
        "id": "1ZN_mzufnh0S"
      },
      "source": [
        "##Plot the Sentiment Polarity and Sentiment Subjectivity"
      ]
    },
    {
      "cell_type": "code",
      "execution_count": 12,
      "metadata": {
        "id": "WjYn8tEjgivQ"
      },
      "outputs": [
        {
          "data": {
            "image/png": "[encoded data removed]",
            "text/plain": [
              "<Figure size 500x500 with 6 Axes>"
            ]
          },
          "metadata": {},
          "output_type": "display_data"
        }
      ],
      "source": [
        "# Pair Plot: Pairwise relationships\n",
        "sns.pairplot(data=df[['Sentiment Polarity', 'Sentiment Subjectivity']],\n",
        "             diag_kind='kde')\n",
        "plt.suptitle('Pair Plot: Pairwise relationships')\n",
        "plt.show()"
      ]
    }
  ],
  "metadata": {
    "colab": {
      "provenance": []
    },
    "kernelspec": {
      "display_name": "Python 3",
      "name": "python3"
    },
    "language_info": {
      "codemirror_mode": {
        "name": "ipython",
        "version": 3
      },
      "file_extension": ".py",
      "mimetype": "text/x-python",
      "name": "python",
      "nbconvert_exporter": "python",
      "pygments_lexer": "ipython3",
      "version": "3.12.1"
    }
  },
  "nbformat": 4,
  "nbformat_minor": 0
}
